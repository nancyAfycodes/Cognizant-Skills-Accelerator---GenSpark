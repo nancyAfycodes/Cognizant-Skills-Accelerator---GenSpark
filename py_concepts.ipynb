{
 "cells": [
  {
   "cell_type": "markdown",
   "metadata": {
    "vscode": {
     "languageId": "sql"
    }
   },
   "source": [
    "## Task 1: Variables: Your first Python Intro.\n",
    "#### Create variable with your name, age and height and print."
   ]
  },
  {
   "cell_type": "code",
   "execution_count": 3,
   "metadata": {},
   "outputs": [
    {
     "name": "stdout",
     "output_type": "stream",
     "text": [
      "Hello, my name is Nancy and I'm 30 old. I'm 5.1 tall. Nice to meet you all!\n"
     ]
    }
   ],
   "source": [
    "# create variables\n",
    "\n",
    "name = \"Nancy\"\n",
    "age = 30\n",
    "height = 5.10\n",
    "\n",
    "# Print \n",
    "print(f\"Hello, my name is {name} and I'm {age} old. I'm {height} tall. Nice to meet you all!\")\n"
   ]
  },
  {
   "cell_type": "markdown",
   "metadata": {},
   "source": [
    "## Task 2: Operations- Playing with numbers\n",
    "\n",
    "#### Pick 2 numbers, nums1, nums2 and perform the following, addition, subtraction, multiplication and division"
   ]
  },
  {
   "cell_type": "code",
   "execution_count": 5,
   "metadata": {},
   "outputs": [
    {
     "name": "stdout",
     "output_type": "stream",
     "text": [
      "The sum of num1 and num2 is:  45\n",
      "The subtraction of num2 from num1 is:  15\n",
      "The product of num1 and num2 is:  450\n",
      "The quotient of num1 and num2 is:  0.5\n"
     ]
    }
   ],
   "source": [
    "num1 = 15\n",
    "num2= 30\n",
    "\n",
    "# Addition\n",
    "print(\"The sum of num1 and num2 is: \", num1 + num2)\n",
    "\n",
    "# Subtraction\n",
    "print(\"The subtraction of num2 from num1 is: \", num2 - num1)\n",
    "\n",
    "# Multiplication\n",
    "print(\"The product of num1 and num2 is: \", num1 * num2)\n",
    "\n",
    "# Division\n",
    "print(\"The quotient of num1 and num2 is: \", num1 / num2)"
   ]
  },
  {
   "cell_type": "markdown",
   "metadata": {},
   "source": [
    "## Task 3 - Conditional Statements - The number checker\n",
    "\n",
    "#### Write a program that takes a number from the user and tells them whether its positive, negative or zero"
   ]
  },
  {
   "cell_type": "code",
   "execution_count": 5,
   "metadata": {},
   "outputs": [
    {
     "name": "stdout",
     "output_type": "stream",
     "text": [
      "Zero it is, a perfect balance\n"
     ]
    }
   ],
   "source": [
    "num_input = float(input(\"Enter a number: \"))\n",
    "\n",
    "# If-else loop\n",
    "if (num_input > 0):\n",
    "    print(\"The number is positive. Awesome!\")\n",
    "elif num_input < 0:\n",
    "    print(\"The number is negative. Better luck next time.\")\n",
    "else:\n",
    "    print(\"Zero it is, a perfect balance\")"
   ]
  },
  {
   "cell_type": "markdown",
   "metadata": {},
   "source": [
    "# Project - Eligible Voter\n",
    "\n",
    "#### Write a program to check voter eligibility"
   ]
  },
  {
   "cell_type": "code",
   "execution_count": 8,
   "metadata": {},
   "outputs": [
    {
     "name": "stdout",
     "output_type": "stream",
     "text": [
      "Oops! You're not eligible yet. But hey only 4 more years to go!\n"
     ]
    }
   ],
   "source": [
    "# User age input\n",
    "age = int(input(\"How old are you? \"))\n",
    "\n",
    "# Loop to check for voter eligibility\n",
    "if(age >= 18):\n",
    "    print(\"Congratulations! You're eligible to vote. Go make a difference!\")\n",
    "else:\n",
    "    print(f\"Oops! You're not eligible yet. But hey only {18-age} more years to go!\")"
   ]
  }
 ],
 "metadata": {
  "kernelspec": {
   "display_name": "base",
   "language": "python",
   "name": "python3"
  },
  "language_info": {
   "codemirror_mode": {
    "name": "ipython",
    "version": 3
   },
   "file_extension": ".py",
   "mimetype": "text/x-python",
   "name": "python",
   "nbconvert_exporter": "python",
   "pygments_lexer": "ipython3",
   "version": "3.9.16"
  }
 },
 "nbformat": 4,
 "nbformat_minor": 2
}
