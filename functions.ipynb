{
 "cells": [
  {
   "cell_type": "markdown",
   "metadata": {},
   "source": [
    "## Assignment - About Parameters of Functions"
   ]
  },
  {
   "cell_type": "markdown",
   "metadata": {},
   "source": [
    "### Task 1 - Writing Functions\n",
    "\n",
    "#### Create a function 'greet_user' that accepts a name as a parameter and prints out a personalized greeting. Then write another function 'add_number' that takes two numbers as parameters add then and returns a result"
   ]
  },
  {
   "cell_type": "code",
   "execution_count": 1,
   "metadata": {},
   "outputs": [
    {
     "name": "stdout",
     "output_type": "stream",
     "text": [
      "Hello, Nancy. Welcome to GenSpark's Generative AI course!\n"
     ]
    }
   ],
   "source": [
    "# Write a function that accepts a name as parameter and prints out a personalized greeting\n",
    "def greet_user(name):\n",
    "    print(f\"Hello, {name}. Welcome to GenSpark's Generative AI course!\")\n",
    "\n",
    "# Call Function\n",
    "greet_user(\"Nancy\")"
   ]
  },
  {
   "cell_type": "code",
   "execution_count": 6,
   "metadata": {},
   "outputs": [
    {
     "name": "stdout",
     "output_type": "stream",
     "text": [
      "The sum of 20 and 36 is  56\n"
     ]
    }
   ],
   "source": [
    "# Write a function that adds two parameters and prints out the result\n",
    "def add_number(a, b):\n",
    "    return (a+b)\n",
    "\n",
    "# Call function and print result\n",
    "x = int(input(\"Enter the first number: \"))\n",
    "y = int(input(\"Enter the second number: \"))\n",
    "print(f\"The sum of {x} and {y} is \", add_number(x, y))"
   ]
  },
  {
   "cell_type": "markdown",
   "metadata": {},
   "source": [
    "### Task 2 - Using default parameters\n",
    "#### Create a function'describe_pet' that accepts two parameters, pet_name and animal_type(default value is dog), then print"
   ]
  },
  {
   "cell_type": "code",
   "execution_count": 8,
   "metadata": {},
   "outputs": [
    {
     "name": "stdout",
     "output_type": "stream",
     "text": [
      "I have a dog named whiskers\n",
      "I have a cat named bubbles\n"
     ]
    }
   ],
   "source": [
    "# Write a function that accepts two parameters, pet name and type\n",
    "def describe_pet(pet_name, animal_type ='dog'):\n",
    "    print(f\"I have a {animal_type} named {pet_name}\")\n",
    "\n",
    "# Call function\n",
    "describe_pet('whiskers')\n",
    "describe_pet('bubbles', 'cat')"
   ]
  },
  {
   "cell_type": "markdown",
   "metadata": {},
   "source": [
    "### Task 3 - Functions with variable\n",
    "#### Write a function 'make_sandwich' that accepts a variable number of arguments for a sandwich and prints it as a list"
   ]
  },
  {
   "cell_type": "code",
   "execution_count": 12,
   "metadata": {},
   "outputs": [
    {
     "name": "stdout",
     "output_type": "stream",
     "text": [
      "The items needed for the sandwich are:  ['lettuce', ' tomato', ' cheese', ' bacon', ' sauce', ' sweet peppers', ' salt', ' pepper']\n"
     ]
    }
   ],
   "source": [
    "# Write a variable function that creates a list of items needed for a sandwich\n",
    "def make_sandwich(*items):\n",
    "    return list(items)\n",
    "\n",
    "# Return a list for making a sandwich\n",
    "sandwich = input(\"Enter items needed for your sandwich: \")\n",
    "sandwich_items = sandwich.split(',') # split input into a string using commas\n",
    "\n",
    "# Print out menu items\n",
    "print(\"The items needed for the sandwich are: \", make_sandwich(*sandwich_items))\n"
   ]
  },
  {
   "cell_type": "markdown",
   "metadata": {},
   "source": [
    "### Task 4 - Understanding Recursion\n",
    "\n",
    "#### Write a recursive function 'factorial' to calculate the factorial of a number. Then write another 'fibonacci' that calcualtes the nth number in the Fibonacci sequence"
   ]
  },
  {
   "cell_type": "code",
   "execution_count": 15,
   "metadata": {},
   "outputs": [
    {
     "name": "stdout",
     "output_type": "stream",
     "text": [
      "The factorial of 8 is 40320\n"
     ]
    }
   ],
   "source": [
    "# Write a recursive function that calculates the factorial of a number\n",
    "def factorial(n):\n",
    "    # Base case\n",
    "    if n == 0  or n== 1:\n",
    "        return 1\n",
    "    else:\n",
    "        return (n * factorial(n-1))\n",
    "    \n",
    "# Call function\n",
    "num_factorial = int(input(\"Enter a number to calculate its factorial: \"))\n",
    "\n",
    "# Print result\n",
    "print(f\"The factorial of {num_factorial} is {factorial(num_factorial)}\")\n",
    "\n"
   ]
  },
  {
   "cell_type": "code",
   "execution_count": 20,
   "metadata": {},
   "outputs": [
    {
     "name": "stdout",
     "output_type": "stream",
     "text": [
      "The 7th Fibonacci number is 13\n"
     ]
    }
   ],
   "source": [
    "# Write a recursive function to calculate the nth number in Fibonacci sequence\n",
    "#define function\n",
    "def fibonacci(n):\n",
    "    # Base cases for 0 and 1\n",
    "    if n == 0:\n",
    "        return 0\n",
    "    elif n== 1:\n",
    "        return 1\n",
    "    else:\n",
    "        return fibonacci(n-1) + fibonacci(n-2)\n",
    "    \n",
    "# call function and print result\n",
    "num_fibonacci = int(input(\"Enter a number: \"))\n",
    "\n",
    "#Print result\n",
    "print(f\"The {num_fibonacci}th Fibonacci number is {fibonacci(num_fibonacci)}\")"
   ]
  },
  {
   "cell_type": "markdown",
   "metadata": {},
   "source": [
    "# Project - About Menu Functioning\n",
    "\n",
    "### Create a program that presents a menu of choices\n",
    "##### 1. Calculate the factorial of a number\n",
    "##### 2. Find the nth fibonacci number\n",
    "##### 3. Draw a recursive fractal pattern\n",
    "##### 4. Exit\n",
    "### The user should select an option by entering a number."
   ]
  },
  {
   "cell_type": "code",
   "execution_count": 1,
   "metadata": {},
   "outputs": [
    {
     "name": "stdout",
     "output_type": "stream",
     "text": [
      "\n",
      " Recursive Menu Selector:\n",
      "1. Calculate Factorial\n",
      "2. Calculate Fibonacci\n",
      "3. Draw Fractal (Koch Snowflake)\n",
      "4. Exit\n",
      "\n",
      "You've selected '1', this option calculates the factorial of a number.\n",
      "The factorial of 9 is 362880\n",
      "\n",
      " Recursive Menu Selector:\n",
      "1. Calculate Factorial\n",
      "2. Calculate Fibonacci\n",
      "3. Draw Fractal (Koch Snowflake)\n",
      "4. Exit\n",
      "\n",
      "You've selected '2', this prints the nth number in a fibonacci sequence.\n",
      "The 5-th Fibonacci number is 5\n",
      "\n",
      " Recursive Menu Selector:\n",
      "1. Calculate Factorial\n",
      "2. Calculate Fibonacci\n",
      "3. Draw Fractal (Koch Snowflake)\n",
      "4. Exit\n",
      "\n",
      "You've selected '3', this produces a fractal pattern.\n",
      "\n",
      " Recursive Menu Selector:\n",
      "1. Calculate Factorial\n",
      "2. Calculate Fibonacci\n",
      "3. Draw Fractal (Koch Snowflake)\n",
      "4. Exit\n",
      "Exiting the program.\n"
     ]
    }
   ],
   "source": [
    "# import turtle library\n",
    "import turtle as t\n",
    "\n",
    "# Function Factorial calculation\n",
    "def factorial(n):\n",
    "    # Base case\n",
    "    if n == 0  or n== 1:\n",
    "        return 1\n",
    "    else:\n",
    "        return (n * factorial(n-1))\n",
    "    \n",
    "# Function Fibonacci Sequence\n",
    "def fibonacci(n):\n",
    "    # Base cases for 0 and 1\n",
    "    if n == 0:\n",
    "        return 0\n",
    "    elif n== 1:\n",
    "        return 1\n",
    "    else:\n",
    "        return fibonacci(n-1) + fibonacci(n-2)\n",
    "\n",
    "# Function Fractal Pattern generator\n",
    "# Recursive function to draw Koch snowflake (Fractal pattern)\n",
    "def koch_curve(s, order, size):\n",
    "    if order == 0:\n",
    "        s.forward(size)\n",
    "    else:\n",
    "        size /= 3.0\n",
    "        koch_curve(s, order - 1, size)  # Draw first third\n",
    "        s.left(72)  # 72 degrees for 5-sided fractal\n",
    "        koch_curve(s, order - 1, size)  # Draw second third\n",
    "        s.right(144)  # Adjust the angle for the third part\n",
    "        koch_curve(s, order - 1, size)  # Draw third third\n",
    "        s.left(72)  # Reset angle to go back to original direction\n",
    "\n",
    "# Function to draw the full 5-sided Koch snowflake (Koch Star)\n",
    "def koch_star(sf, order, size):\n",
    "    for _ in range(5):  # We have 5 sides for the pentagon\n",
    "        koch_curve(sf, order, size)\n",
    "        sf.right(72)  # Turn by 72 degrees to form the 5 sides of the pentagon\n",
    "\n",
    "# Function to display menu and process choices\n",
    "def recursive_menu():\n",
    "    while True:\n",
    "        # Display menu\n",
    "        print(\"\\n Recursive Menu Selector:\")\n",
    "        print(\"1. Calculate Factorial\")\n",
    "        print(\"2. Calculate Fibonacci\")\n",
    "        print(\"3. Draw Fractal (Koch Snowflake)\")\n",
    "        print(\"4. Exit\")\n",
    "\n",
    "        # Get user choice\n",
    "        num_choice = input(\"Enter your choice (1, 2, 3, or 4): \")\n",
    "\n",
    "        if num_choice == '1':\n",
    "            print(\"\\nYou've selected '1', this option calculates the factorial of a number.\")\n",
    "            # Get input for factorial\n",
    "            num_factorial = int(input(\"Enter a number to calculate its factorial: \"))\n",
    "            print(f\"The factorial of {num_factorial} is {factorial(num_factorial)}\")\n",
    "\n",
    "        elif num_choice == '2':\n",
    "            print(\"\\nYou've selected '2', this prints the nth number in a fibonacci sequence.\")\n",
    "            # Get input for Fibonacci\n",
    "            num_fibonacci = int(input(\"Enter a number to find its Fibonacci value: \"))\n",
    "            print(f\"The {num_fibonacci}-th Fibonacci number is {fibonacci(num_fibonacci)}\")\n",
    "\n",
    "        elif num_choice == '3':\n",
    "            print(\"\\nYou've selected '3', this produces a fractal pattern.\")\n",
    "\n",
    "            # Get input for Fractal drawing\n",
    "            order = int(input(\"Enter the order of the fractal (a number, e.g., 4): \"))\n",
    "            size = int(input(\"Enter the size of the fractal: \"))\n",
    "\n",
    "            # Set up turtle for drawing\n",
    "            screen = t.Screen()\n",
    "            screen.bgcolor(\"white\") #background color\n",
    "            t_function = t.Turtle() # call turtle library\n",
    "            t_function.speed(0)  # Fast drawing\n",
    "\n",
    "            # Start drawing the fractal\n",
    "            koch_star(t_function, order, size)\n",
    "\n",
    "            # Hide turtle and finish\n",
    "            t_function.hideturtle()\n",
    "            screen.mainloop()\n",
    "\n",
    "        elif num_choice == '4':\n",
    "            print(\"Exiting the program.\")\n",
    "            break  # Exit the loop and end the program\n",
    "\n",
    "        else:\n",
    "            print(\"Invalid choice! Options are 1-4, please choose a valid option.\")\n",
    "\n",
    "# Start the program\n",
    "recursive_menu()"
   ]
  }
 ],
 "metadata": {
  "kernelspec": {
   "display_name": "base",
   "language": "python",
   "name": "python3"
  },
  "language_info": {
   "codemirror_mode": {
    "name": "ipython",
    "version": 3
   },
   "file_extension": ".py",
   "mimetype": "text/x-python",
   "name": "python",
   "nbconvert_exporter": "python",
   "pygments_lexer": "ipython3",
   "version": "3.9.16"
  }
 },
 "nbformat": 4,
 "nbformat_minor": 2
}
