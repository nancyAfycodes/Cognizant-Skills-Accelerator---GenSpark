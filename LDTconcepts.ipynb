{
 "cells": [
  {
   "cell_type": "markdown",
   "metadata": {},
   "source": [
    "# Assignment: Hands on Python Data Structures"
   ]
  },
  {
   "cell_type": "markdown",
   "metadata": {},
   "source": [
    "## Task 1 - Working with List\n",
    "\n",
    "#### Create a list of your favorite fruit and perform the following functions, append, remove and reverse the list"
   ]
  },
  {
   "cell_type": "code",
   "execution_count": 21,
   "metadata": {},
   "outputs": [
    {
     "name": "stdout",
     "output_type": "stream",
     "text": [
      "['banana', 'avocado', 'pineapple', 'mango', 'tomato', 'papaya']\n",
      "['banana', 'avocado', 'mango', 'tomato', 'papaya']\n",
      "['papaya', 'tomato', 'mango', 'avocado', 'banana']\n"
     ]
    }
   ],
   "source": [
    "# List of fruits\n",
    "fruit_list = ['banana', 'avocado', 'pineapple', 'mango', 'tomato']\n",
    "\n",
    "# Append a new fruit, papaya\n",
    "fruit_list.append('papaya')\n",
    "print(fruit_list)\n",
    "\n",
    "# Remove pineapple from the list\n",
    "fruit_list.remove('pineapple')\n",
    "print(fruit_list)\n",
    "\n",
    "# Reverse list\n",
    "#fruit_list.reverse()\n",
    "fruit_list= fruit_list[::-1]\n",
    "print(fruit_list)"
   ]
  },
  {
   "cell_type": "markdown",
   "metadata": {},
   "source": [
    "# Task 2 - Exploring Dictionaries\n",
    "\n",
    "#### Create a dictionary to have information about yourself with the following keys, name age and city"
   ]
  },
  {
   "cell_type": "code",
   "execution_count": 26,
   "metadata": {},
   "outputs": [
    {
     "name": "stdout",
     "output_type": "stream",
     "text": [
      "{'Name': 'Nancy Anatuanya', 'Age': 30, 'City': 'Los Angeles'}\n",
      "{'Name': 'Nancy Anatuanya', 'Age': 30, 'City': 'Los Angeles', 'Favorite color': 'Black'}\n",
      "{'Name': 'Nancy Anatuanya', 'Age': 30, 'City': 'San Francisco', 'Favorite color': 'Black'}\n",
      "Name : Nancy Anatuanya\n",
      "Age : 30\n",
      "City : San Francisco\n",
      "Favorite color : Black\n"
     ]
    }
   ],
   "source": [
    "# Create a dictionary\n",
    "my_info = {\n",
    "    'Name': 'Nancy Anatuanya',\n",
    "    'Age': 30,\n",
    "    'City': 'Los Angeles'\n",
    "} # dictionary with key-value pairs\n",
    "\n",
    "print(my_info)\n",
    "\n",
    "# Add favorite color to my_info dict\n",
    "my_info['Favorite color'] = 'Black'\n",
    "print(my_info)\n",
    "\n",
    "# Update city with a new value\n",
    "my_info['City'] = 'San Francisco'\n",
    "print(my_info)\n",
    "\n",
    "# Iterate through and print key-value pairs\n",
    "for key, value in my_info.items():\n",
    "    print(f\"{key} : {value}\")"
   ]
  },
  {
   "cell_type": "markdown",
   "metadata": {},
   "source": [
    "## Task 3 - Using Tuples\n",
    "\n",
    "#### Create a tuple with three elements, favorite movie, song and book"
   ]
  },
  {
   "cell_type": "code",
   "execution_count": 33,
   "metadata": {},
   "outputs": [
    {
     "name": "stdout",
     "output_type": "stream",
     "text": [
      "('Titanic', 'Seven Nation Army', 'A Tale of Two Cities')\n",
      "Tuples are immutable! elements can't be changed.\n"
     ]
    },
    {
     "data": {
      "text/plain": [
       "3"
      ]
     },
     "execution_count": 33,
     "metadata": {},
     "output_type": "execute_result"
    }
   ],
   "source": [
    "# Create a tuple\n",
    "my_tuple = ('Titanic', 'Seven Nation Army', 'A Tale of Two Cities')\n",
    "print(my_tuple)\n",
    "\n",
    "# Change one of the elements\n",
    "try:\n",
    "    my_tuple['Seven Nation Army'] = 'Speed of Sound'\n",
    "except:\n",
    "    print(\"Tuples are immutable! elements can't be changed.\")\n",
    "\n",
    "# length of tuple\n",
    "len(my_tuple)"
   ]
  },
  {
   "cell_type": "markdown",
   "metadata": {},
   "source": [
    "# Project - Implement your data structure"
   ]
  },
  {
   "cell_type": "code",
   "execution_count": 51,
   "metadata": {},
   "outputs": [
    {
     "name": "stdout",
     "output_type": "stream",
     "text": [
      "{'Apple': (10, 2.5), 'Banana': (20, 1.2)}\n",
      "{'Apple': (10, 3.5), 'Banana': (20, 1.2), 'Mango': (15, 3.0)}\n",
      "\n",
      "Item       Quantity   Price     \n",
      "------------------------------\n",
      "Apple      10         $3.50      \n",
      "Banana     20         $1.20      \n",
      "Mango      15         $3.00      \n",
      "\n",
      "Item       Quantity   Price      Total_Value\n",
      "----------------------------------------\n",
      "Apple      10         $3.50       $35.00         \n",
      "Banana     20         $1.20       $24.00         \n",
      "Mango      15         $3.00       $45.00         \n",
      "----------------------------------------\n",
      "Total Value                      $104.00        \n"
     ]
    }
   ],
   "source": [
    "# Step 1 - Create dictionary, inventory\n",
    "inventory={\n",
    "    'Apple':(10, 2.5),\n",
    "    'Banana':(20, 1.2)\n",
    "}\n",
    "print(inventory)\n",
    "\n",
    "# Step 2- add, remove and update an item\n",
    "inventory['Mango'] = (15, 3.0)\n",
    "inventory['Apple'] = (10,3.5)\n",
    "print(inventory)\n",
    "\n",
    "# Step 3 - Display inventory\n",
    "# Print the headings\n",
    "print(f\"\\n{'Item':<10} {'Quantity':<10} {'Price':<10}\")\n",
    "print(\"-\" * 30)  # Separator line\n",
    "\n",
    "#loop to print inventory elements\n",
    "for item, (quantity, price) in inventory.items():\n",
    "    print(f\"{item:<10} {quantity:<10} ${price:<10.2f}\")\n",
    "\n",
    "\n",
    "# Step 4- Bonus calculate total value\n",
    "sum_total = 0 # initialize total value\n",
    "\n",
    "# Print table headings\n",
    "print(f\"\\n{'Item':<10} {'Quantity':<10} {'Price':<10} {'Total_Value':<10}\")\n",
    "print(\"-\" * 40) #line separator\n",
    "\n",
    "# loop to calculate total value \n",
    "for item, (quantity,price) in inventory.items():\n",
    "    item_sum = quantity * price # calc sum of each item\n",
    "    sum_total+=item_sum # sum total of all items\n",
    "    print(f\"{item:<10} {quantity:<10} ${price:<10.2f} ${item_sum:<14.2f}\")\n",
    "\n",
    "# Print the total value\n",
    "print(\"-\" * 40)  # Separator line\n",
    "print(f\"{'Total Value':<32} ${sum_total:<14.2f}\")  # Total sum"
   ]
  }
 ],
 "metadata": {
  "kernelspec": {
   "display_name": "base",
   "language": "python",
   "name": "python3"
  },
  "language_info": {
   "codemirror_mode": {
    "name": "ipython",
    "version": 3
   },
   "file_extension": ".py",
   "mimetype": "text/x-python",
   "name": "python",
   "nbconvert_exporter": "python",
   "pygments_lexer": "ipython3",
   "version": "3.9.16"
  }
 },
 "nbformat": 4,
 "nbformat_minor": 2
}
