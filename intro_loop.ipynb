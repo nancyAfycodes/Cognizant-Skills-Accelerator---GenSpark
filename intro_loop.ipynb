{
 "cells": [
  {
   "cell_type": "code",
   "execution_count": 1,
   "metadata": {},
   "outputs": [
    {
     "name": "stdout",
     "output_type": "stream",
     "text": [
      "You're legally allowed to purchase alcohol\n",
      "Drinking age can not be 0 or negative. Enter a valid number.\n",
      "Please enter a valid number!\n"
     ]
    }
   ],
   "source": [
    "while True :\n",
    "    drinking_age = int(input(\"Please enter your age: \"))\n",
    "    \n",
    "    if drinking_age >=21:\n",
    "        print(\"You're legally allowed to purchase alcohol\")\n",
    "    elif drinking_age > 0 and drinking_age < 21:\n",
    "        print(f\"Sorry! You're too young to drink!. You have {21-drinking_age} years to go.\")\n",
    "    else:\n",
    "        print(\"Drinking age can not be 0 or negative. Enter a valid number.\")\n",
    "        break\n",
    "print(\"Please enter a valid number!\")\n"
   ]
  },
  {
   "cell_type": "code",
   "execution_count": 2,
   "metadata": {},
   "outputs": [
    {
     "name": "stdout",
     "output_type": "stream",
     "text": [
      "10 11 13 "
     ]
    }
   ],
   "source": [
    "for num in range(10,16):\n",
    "    if num%3==0:\n",
    "        continue\n",
    "    if num == 14:\n",
    "        break\n",
    "    print(num, end=' ')"
   ]
  },
  {
   "cell_type": "code",
   "execution_count": 3,
   "metadata": {},
   "outputs": [
    {
     "name": "stdout",
     "output_type": "stream",
     "text": [
      "0\n",
      "1\n",
      "2\n",
      "3\n",
      "4\n"
     ]
    }
   ],
   "source": [
    "x=0\n",
    "\n",
    "while x<5:\n",
    "    print(x)\n",
    "    x+=1"
   ]
  },
  {
   "cell_type": "markdown",
   "metadata": {},
   "source": [
    "# Explore Loops in Python"
   ]
  },
  {
   "cell_type": "markdown",
   "metadata": {},
   "source": [
    "### Task 1 - Counting Down with Loops"
   ]
  },
  {
   "cell_type": "code",
   "execution_count": 5,
   "metadata": {},
   "outputs": [
    {
     "name": "stdout",
     "output_type": "stream",
     "text": [
      "5\n",
      "4\n",
      "3\n",
      "2\n",
      "1\n",
      "Blast off!!!\n"
     ]
    }
   ],
   "source": [
    "# Enter the count down number\n",
    "num_count = int(input(\"Enter count down number: \"))\n",
    "\n",
    "# while loop for count down\n",
    "while num_count > 0:\n",
    "    print(num_count)\n",
    "    num_count-=1\n",
    "\n",
    "#print celebratory message\n",
    "print(\"Blast off!!!\")"
   ]
  },
  {
   "cell_type": "markdown",
   "metadata": {},
   "source": [
    "### Task 2: Multiplication table with for loop\n",
    "\n",
    "#### Write a program that generates the multiplication of any number provided by the user"
   ]
  },
  {
   "cell_type": "code",
   "execution_count": 6,
   "metadata": {},
   "outputs": [
    {
     "name": "stdout",
     "output_type": "stream",
     "text": [
      "Multiplication Table for 6\n",
      "6 * 1 = 6\n",
      "6 * 2 = 12\n",
      "6 * 3 = 18\n",
      "6 * 4 = 24\n",
      "6 * 5 = 30\n",
      "6 * 6 = 36\n",
      "6 * 7 = 42\n",
      "6 * 8 = 48\n",
      "6 * 9 = 54\n",
      "6 * 10 = 60\n"
     ]
    }
   ],
   "source": [
    "# User number number input\n",
    "num = int(input(\"Enter the number: \"))\n",
    "\n",
    "# for loop for multiplication table\n",
    "print(f\"Multiplication Table for {num}\")\n",
    "\n",
    "# for loop for multiplication table\n",
    "for x in range(1, 11):\n",
    "    print(f\"{num} * {x} = {num * x}\")"
   ]
  },
  {
   "cell_type": "markdown",
   "metadata": {},
   "source": [
    "### Task 3: Find the factorial\n",
    "\n",
    "#### Write a python program to calculate the factorial of a number entered by the user"
   ]
  },
  {
   "cell_type": "code",
   "execution_count": 10,
   "metadata": {},
   "outputs": [
    {
     "name": "stdout",
     "output_type": "stream",
     "text": [
      "The factorial of 7 is 5040\n"
     ]
    }
   ],
   "source": [
    "# User input\n",
    "num_factor = int(input(\"Enter number for calc: \"))\n",
    "num_factorial = 1 # initialize counter\n",
    "\n",
    "# for loop to calculate factorial\n",
    "for y in range(1, num_factor+1):\n",
    "    num_factorial *= y\n",
    "print(f\"The factorial of {num_factor} is {num_factorial}\")\n"
   ]
  },
  {
   "cell_type": "markdown",
   "metadata": {},
   "source": [
    "# Project: Number Guessing Game"
   ]
  },
  {
   "cell_type": "code",
   "execution_count": 15,
   "metadata": {},
   "outputs": [
    {
     "name": "stdout",
     "output_type": "stream",
     "text": [
      "Too high! Try again.\n",
      "Too low! Try again\n",
      "Too low! Try again\n",
      "Too low! Try again\n",
      "Too low! Try again\n",
      "Too high! Try again.\n",
      "Too high! Try again.\n",
      "Too high! Try again.\n",
      "Too low! Try again\n",
      "Too low! Try again\n",
      "Game Over! The correct number was 83. Better luck next time!\n"
     ]
    }
   ],
   "source": [
    "# Step 1: Generate random numbers\n",
    "import random\n",
    "\n",
    "# Generate random numbers between 1 and 100\n",
    "number_to_guess = random.randint(1,100) \n",
    "\n",
    "# guess counter\n",
    "counter= 0 # initialize counter\n",
    "max_attempts = 10 # maximum number of guesses\n",
    "\n",
    "# while loop to determine correct guess\n",
    "while counter < max_attempts:\n",
    "    user_guess = int(input(\"Guess a number between 1 and 100: \")) # initialize user's guess\n",
    "    counter += 1 # increase counter\n",
    "\n",
    "    if user_guess > number_to_guess:\n",
    "        print(\"Too high! Try again.\")\n",
    "    elif user_guess < number_to_guess:\n",
    "        print(\"Too low! Try again\")\n",
    "    else:\n",
    "        print(f\"Congratulations! You guessed it in {counter} attempts.\")\n",
    "        break\n",
    "# If max attempts are reached and the guess was incorrect\n",
    "if counter == max_attempts and user_guess != number_to_guess:\n",
    "    print(f\"Game Over! The correct number was {number_to_guess}. Better luck next time!\")   "
   ]
  }
 ],
 "metadata": {
  "kernelspec": {
   "display_name": "base",
   "language": "python",
   "name": "python3"
  },
  "language_info": {
   "codemirror_mode": {
    "name": "ipython",
    "version": 3
   },
   "file_extension": ".py",
   "mimetype": "text/x-python",
   "name": "python",
   "nbconvert_exporter": "python",
   "pygments_lexer": "ipython3",
   "version": "3.9.16"
  }
 },
 "nbformat": 4,
 "nbformat_minor": 2
}
