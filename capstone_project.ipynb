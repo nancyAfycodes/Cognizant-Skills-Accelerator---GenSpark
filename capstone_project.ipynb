{
 "cells": [
  {
   "cell_type": "markdown",
   "metadata": {},
   "source": [
    "# Capstone Project - Introduction to Python\n",
    "\n",
    "### User Story 1 - Task Prioritization\n",
    "\n",
    "#### As a student, I want to organize my tasks by deadlines and priority so that I can manage my study time efficiently. \n",
    "\n",
    "##### Solution: Allow input of tasks and automatically generate a prioritized schedule. "
   ]
  },
  {
   "cell_type": "code",
   "execution_count": 2,
   "metadata": {},
   "outputs": [
    {
     "name": "stdout",
     "output_type": "stream",
     "text": [
      "Invalid date format. Use MM-DD-YYYY.\n",
      "\n",
      "Student Prioritized Task Schedule:\n",
      "Capstone project - Deadline: 03-15-2025 - Priority: 5\n"
     ]
    }
   ],
   "source": [
    "from datetime import datetime\n",
    "\n",
    "def get_tasks():\n",
    "    tasks = [] # empty array to hold task input and data \n",
    "    while True:\n",
    "        task_name = input(\"Enter task name (or 'done' to finish): \") # Enter desired task\n",
    "        if task_name.lower() == 'done': # if all task have been entered\n",
    "            break\n",
    "        \n",
    "        deadline = input(\"Enter deadline (MM-DD-YYYY): \") # enter the deadline date\n",
    "        priority = int(input(\"Enter priority (1-5, 5 is highest): \")) # rank task priority from 1(least) to 5(most important)\n",
    "        \n",
    "        # Try- except clause \n",
    "        try:\n",
    "            tasks.append((task_name, datetime.strptime(deadline, \"%m-%d-%Y\"), priority))\n",
    "        except ValueError:\n",
    "            print(\"Invalid date format. Use MM-DD-YYYY.\")\n",
    "    return tasks\n",
    "\n",
    "def main():\n",
    "    #print(\"Student Task Prioritization System\")\n",
    "    tasks = get_tasks() # call get_task function\n",
    "    tasks.sort(key=lambda x: (x[1], x[2])) # sort task in order of importance\n",
    "    \n",
    "    print(\"\\nStudent Prioritized Task Schedule:\") # task prioritization based on ranking\n",
    "    \n",
    "    for task, deadline, priority in tasks: # loop to print prioritized list\n",
    "        print(f\"{task} - Deadline: {deadline.strftime('%m-%d-%Y')} - Priority: {priority}\")\n",
    "\n",
    "if __name__ == \"__main__\":\n",
    "    main()\n"
   ]
  },
  {
   "cell_type": "markdown",
   "metadata": {},
   "source": [
    "## User Story 2: Performance Tracking \n",
    "\n",
    "### As a student, I want to track my scores across subjects so that I can identify areas for improvement. \n",
    "\n",
    "#### Solution: Enable score tracking and calculation of averages for actionable feedback. "
   ]
  },
  {
   "cell_type": "code",
   "execution_count": 5,
   "metadata": {},
   "outputs": [
    {
     "name": "stdout",
     "output_type": "stream",
     "text": [
      "Student Performance Tracking System\n",
      "\n",
      "Test Performance Summary:\n",
      "Math: Scores = [98.0, 95.0, 89.0], Average = 94.00\n",
      "English: Scores = [98.0, 88.0], Average = 93.00\n",
      "English : Scores = [100.0], Average = 100.00\n",
      "Social Science: Scores = [45.0, 80.0, 65.0], Average = 63.33\n",
      "\n",
      "Overall Average Score: 84.22\n"
     ]
    }
   ],
   "source": [
    "# Function to track Subject scores\n",
    "def get_scores():\n",
    "    scores = {}# dictionary to hold subject(key), score(value) pairs\n",
    "    \n",
    "    # Loop to determine subject area of improvement depending on entry subject-entry score\n",
    "    while True:\n",
    "        subject = input(\"Enter subject (or 'done' to finish): \") # enter subject\n",
    "        if subject.lower() == 'done': # break loop\n",
    "            break\n",
    "        try:\n",
    "            score = float(input(f\"Enter score for {subject}: \")) # enter score\n",
    "            if subject not in scores:\n",
    "                scores[subject] = [] # append scores to subject if it doesn't already exists\n",
    "            scores[subject].append(score) # append corresponding score\n",
    "        except ValueError:\n",
    "            print(\"Invalid score. Please enter a number.\") # if invalid number is entered\n",
    "    return scores\n",
    "\n",
    "# Function if no score is entered\n",
    "def display_results(scores):\n",
    "    if not scores: \n",
    "        print(\"No scores entered.\")\n",
    "        return\n",
    "\n",
    "    print(\"\\nTest Performance Summary:\")\n",
    "    total_score = 0 # sum of score for a subject\n",
    "    count = 0 # subject counter\n",
    "\n",
    "    # Loop to calculate average score\n",
    "    for subject, score_list in scores.items():\n",
    "        avg = sum(score_list) / len(score_list) # calc average\n",
    "        total_score += sum(score_list) # add total score\n",
    "        count += len(score_list) # number of scores per subject\n",
    "        print(f\"{subject}: Scores = {score_list}, Average = {avg:.2f}\") # print subject and associated score\n",
    "\n",
    "    # Calculate overall average of all subject scores entered\n",
    "    overall_avg = total_score / count\n",
    "    print(f\"\\nOverall Average Score: {overall_avg:.2f}\")\n",
    "\n",
    "# Function to display subject and their score\n",
    "def main():\n",
    "    print(\"Student Performance Tracking System\")\n",
    "    scores = get_scores()\n",
    "    display_results(scores)\n",
    "\n",
    "if __name__ == \"__main__\":\n",
    "    main()\n"
   ]
  }
 ],
 "metadata": {
  "kernelspec": {
   "display_name": "base",
   "language": "python",
   "name": "python3"
  },
  "language_info": {
   "codemirror_mode": {
    "name": "ipython",
    "version": 3
   },
   "file_extension": ".py",
   "mimetype": "text/x-python",
   "name": "python",
   "nbconvert_exporter": "python",
   "pygments_lexer": "ipython3",
   "version": "3.9.16"
  }
 },
 "nbformat": 4,
 "nbformat_minor": 2
}
