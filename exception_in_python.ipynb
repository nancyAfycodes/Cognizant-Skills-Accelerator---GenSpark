{
 "cells": [
  {
   "cell_type": "markdown",
   "metadata": {},
   "source": [
    "# Assignment - Check your knowledge on Errors \n",
    "\n",
    "### Task 1 - Understanding Python Exceptions\n",
    "#### Write a python program that prompts the user to enter a number, tries to divide 100 by the number and handles the following exceptions, ZeroDivisionError and ValueError"
   ]
  },
  {
   "cell_type": "code",
   "execution_count": 8,
   "metadata": {},
   "outputs": [
    {
     "name": "stdout",
     "output_type": "stream",
     "text": [
      "100 divided by 5.0 is 20.0\n"
     ]
    }
   ],
   "source": [
    "# Create a function  for division calculation\n",
    "\n",
    "def numDivision():\n",
    "    num_input = float(input(\"Enter a number: \"))\n",
    "\n",
    "    # try-except clause to check if entry is valid\n",
    "    try:\n",
    "        result = 100 / num_input # division\n",
    "        print(f\"100 divided by {num_input} is {result}\")\n",
    "    except ZeroDivisionError:\n",
    "        print(\"Invalid! Cannot divide be 0.\")\n",
    "    except ValueError:\n",
    "        print(\"Invalid input! Only numeric values are allowed, try again!\")\n",
    "\n",
    "# call function\n",
    "numDivision()"
   ]
  },
  {
   "cell_type": "markdown",
   "metadata": {},
   "source": [
    "#### Task 2 -Create a program that intentionally raises and handles the following exceptions - IndexError, KeyError, TypeError"
   ]
  },
  {
   "cell_type": "code",
   "execution_count": null,
   "metadata": {},
   "outputs": [
    {
     "name": "stdout",
     "output_type": "stream",
     "text": [
      "Error, list index is out of range!\n",
      "Error, key does not exist!\n",
      "Error, can't add a string to a number.\n"
     ]
    }
   ],
   "source": [
    "# Define function to handle each exception\n",
    "\n",
    "def exception_handling():\n",
    "    # IndexError handling example\n",
    "    try:\n",
    "        num_list = [1, 2, 4, 5, 6] # define list values\n",
    "        print(num_list[6]) # out of range, raises index error\n",
    "    except IndexError:\n",
    "        print(\"Error, list index is out of range!\") # error message\n",
    "    \n",
    "    # KeyError handling example\n",
    "    try:\n",
    "        my_dict = {'name':'Nancy', 'subject':'Computer Science'} # key-value pair for dictionary\n",
    "        print(my_dict['exam_score']) # key error, since exam_score does not exit\n",
    "    except KeyError:\n",
    "        print(\"Error, key does not exist!\") # error message\n",
    "    \n",
    "    #TypeError handling example\n",
    "    try:\n",
    "        num_str = \"5\" + 5 # can't add string and number\n",
    "    except TypeError:\n",
    "        print(\"Error, can't add a string to a number.\") # error message.\n",
    "    \n",
    "# call function\n",
    "exception_handling()"
   ]
  },
  {
   "cell_type": "markdown",
   "metadata": {},
   "source": [
    "#### Task 3 - Using try....except....else...finally\n",
    "##### Write a program that prompts the user to enter two numbers, tries to divide the first number by the second number and implements try...except...else...finally "
   ]
  },
  {
   "cell_type": "code",
   "execution_count": 16,
   "metadata": {},
   "outputs": [
    {
     "name": "stdout",
     "output_type": "stream",
     "text": [
      "The result of dividing 1000.0 by 250.0 is 4.0\n",
      "Program completed. This line of code always runs.\n"
     ]
    }
   ],
   "source": [
    "# create function to implement try clause\n",
    "def num_division():\n",
    "    try:\n",
    "        num1 = float(input(\"Enter the first number: \")) # first number\n",
    "        num2 = float(input(\"Enter the second number: \")) # second number\n",
    "\n",
    "        # Result of division\n",
    "        num_result = num1/num2 # result\n",
    "    \n",
    "    # exception clause to handle zero division and non-integers\n",
    "    except ZeroDivisionError:\n",
    "        print(\"Cannot divide by zero!\")\n",
    "    except ValueError:\n",
    "        print(\"Invalid entry. Integers only!\")\n",
    "    \n",
    "    # else clause to display result of division\n",
    "    else:\n",
    "        print(f\"The result of dividing {num1} by {num2} is {num_result}\")\n",
    "    \n",
    "    # final clause, runs irrespective of errors encountered\n",
    "    finally:\n",
    "        print(\"Program completed. This line of code always runs.\")\n",
    "\n",
    "# call function\n",
    "num_division()\n"
   ]
  },
  {
   "cell_type": "markdown",
   "metadata": {},
   "source": [
    "# Project: Calculator with Exception Handling"
   ]
  },
  {
   "cell_type": "markdown",
   "metadata": {},
   "source": [
    "### Create a program that displays a menu with the following operations, addition, subtraction, multiplication, division and exit. Then log any errors into a log file"
   ]
  },
  {
   "cell_type": "code",
   "execution_count": 1,
   "metadata": {},
   "outputs": [
    {
     "name": "stdout",
     "output_type": "stream",
     "text": [
      "\n",
      "Simple Calculator.\n",
      "1. Addition\n",
      "2. Subtraction\n",
      "3. Multiplication\n",
      "4. Division\n",
      "5. Exit\n",
      "Subtracting 5.0 from 4.0 is 1.0\n",
      "\n",
      "Simple Calculator.\n",
      "1. Addition\n",
      "2. Subtraction\n",
      "3. Multiplication\n",
      "4. Division\n",
      "5. Exit\n",
      "You're exiting the calculator! Thanks for using the calculator for your needs!\n"
     ]
    }
   ],
   "source": [
    "# Functions for calculator and log file\n",
    "# function for calculator with exception handling\n",
    "def simple_calculator():\n",
    "    # Menu Options\n",
    "    while True:\n",
    "        try:\n",
    "            print(\"\\nSimple Calculator.\")\n",
    "            print(\"1. Addition\")\n",
    "            print(\"2. Subtraction\")\n",
    "            print(\"3. Multiplication\")\n",
    "            print(\"4. Division\")\n",
    "            print(\"5. Exit\")\n",
    "\n",
    "            # User selection from menu\n",
    "            num_choice = input(\"Select a number, 1-5, from the menu: \")\n",
    "\n",
    "            if num_choice == '5':\n",
    "                print(\"You're exiting the calculator! Thanks for using the calculator for your needs!\")\n",
    "                break\n",
    "            else:\n",
    "                try:\n",
    "                    # Enter numbers for calculation operations\n",
    "                    num1 = float(input(\"Enter the first number: \")) # num1\n",
    "                    num2 = float(input(\"Enter the second number: \")) # num 2\n",
    "                except ValueError: # value error if non-integer is entered\n",
    "                    raise ValueError(\"Please enter an integer value.\") # exception clause to alert for non-integer entry. \n",
    "            \n",
    "            # Calculation based on operation selected from the menu, 1-4\n",
    "            # Addition operation\n",
    "            if num_choice == '1':\n",
    "                add_result = num1 + num2\n",
    "                print(f\"Addition of {num1} and {num2} is {add_result}\") # prints result of addition\n",
    "            \n",
    "            # Subtraction operation\n",
    "            elif num_choice == '2':\n",
    "                sub_result =  num1 - num2\n",
    "                print(f\"Subtracting {num1} from {num2} is {sub_result}\") #result, subtraction\n",
    "            \n",
    "            # Multiplication operation\n",
    "            elif num_choice == '3':\n",
    "                multi_result =  num1 * num2\n",
    "                print(f\"Multiplying {num1} and {num2} is {multi_result}\") #result, multiplication\n",
    "            \n",
    "            # Division operation\n",
    "            elif num_choice == '4':\n",
    "                if num2 == 0:\n",
    "                    raise ZeroDivisionError(\"Cannot divide by 0!\")\n",
    "                else:\n",
    "                    div_result =  num1 / num2\n",
    "                    print(f\"Dividing {num1} and {num2} is {div_result}\") #result, division\n",
    "            else:\n",
    "                print(\"Invalid selection! Select a number (1-5).\") #invalid selection\n",
    "        except ZeroDivisionError as zero_error: # exception for zero division\n",
    "            print(f\"Error message(divide by zero): {zero_error}\") # prints message\n",
    "            error_log(f\"Error message(divide by zero): {zero_error}\") # message in log file\n",
    "        except ValueError as non_integer: # exception for non-integer values\n",
    "            print(f\"Error message(non-integer entered): {non_integer}\") # prints message\n",
    "            error_log(f\"Error message(non_integer): {non_integer}\") # message in log file.\n",
    "\n",
    "# Log function for error messages \n",
    "def error_log(message):\n",
    "    with open(\"calc_errorlog.text\", \"a\") as log_file:\n",
    "        log_file.write(message + \"\\n\") # writes message into a log file\n",
    "\n",
    "# Call calculator function\n",
    "simple_calculator()"
   ]
  }
 ],
 "metadata": {
  "kernelspec": {
   "display_name": "base",
   "language": "python",
   "name": "python3"
  },
  "language_info": {
   "codemirror_mode": {
    "name": "ipython",
    "version": 3
   },
   "file_extension": ".py",
   "mimetype": "text/x-python",
   "name": "python",
   "nbconvert_exporter": "python",
   "pygments_lexer": "ipython3",
   "version": "3.9.16"
  }
 },
 "nbformat": 4,
 "nbformat_minor": 2
}
