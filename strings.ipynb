{
 "cells": [
  {
   "cell_type": "code",
   "execution_count": 5,
   "metadata": {},
   "outputs": [
    {
     "name": "stdout",
     "output_type": "stream",
     "text": [
      "Hello World\n"
     ]
    }
   ],
   "source": [
    "a = \"Hello\"\n",
    "b = \"World\"\n",
    "print(a +\" \" + b)"
   ]
  },
  {
   "cell_type": "markdown",
   "metadata": {},
   "source": [
    "## Exploring string Methods"
   ]
  },
  {
   "cell_type": "markdown",
   "metadata": {},
   "source": [
    "### Task 1: String splicing and indexing\n",
    "\n",
    "##### Create a string variable with the value \"Python is amazing!\""
   ]
  },
  {
   "cell_type": "code",
   "execution_count": 12,
   "metadata": {},
   "outputs": [
    {
     "name": "stdout",
     "output_type": "stream",
     "text": [
      "First word: Python\n",
      "Amazing part:  amazing\n",
      "Reversed string:  !gnizama si nohtyP\n"
     ]
    }
   ],
   "source": [
    "# create a string\n",
    "str_variable = \"Python is amazing!\"\n",
    "\n",
    "# Extract the first six characters\n",
    "print(\"First word:\", str_variable[0:6])\n",
    "\n",
    "# Print amazing\n",
    "print(\"Amazing part: \", str_variable[10:17])\n",
    "\n",
    "# Reverse entire string\n",
    "print(\"Reversed string: \", str_variable[::-1])"
   ]
  },
  {
   "cell_type": "markdown",
   "metadata": {},
   "source": [
    "### Task 2 : String Methods\n",
    "\n",
    "#### Create a string \" hello, python world! \" and perform splicing, replace, methods"
   ]
  },
  {
   "cell_type": "code",
   "execution_count": 20,
   "metadata": {},
   "outputs": [
    {
     "name": "stdout",
     "output_type": "stream",
     "text": [
      "Strip method: hello, python world!\n",
      "Capitalize method:  Hello, python world!\n",
      "Replace method:  hello, python universe!\n",
      "Upper method:  HELLO, PYTHON WORLD!\n"
     ]
    }
   ],
   "source": [
    "str_variable = \" hello, python world! \"\n",
    "\n",
    "# Strip method\n",
    "str_variable = str_variable.strip()\n",
    "print(\"Strip method:\", str_variable)\n",
    "\n",
    "# Capitalize method\n",
    "print(\"Capitalize method: \", str_variable.capitalize())\n",
    "\n",
    "# Replace method\n",
    "print(\"Replace method: \", str_variable.replace(\"world\", \"universe\"))\n",
    "\n",
    "# Upper method\n",
    "print(\"Upper method: \", str_variable.upper())"
   ]
  },
  {
   "cell_type": "markdown",
   "metadata": {},
   "source": [
    "### Task 3 - Check for Palindromes\n",
    "\n",
    "##### Write a python program to check if a string is a palindrome"
   ]
  },
  {
   "cell_type": "code",
   "execution_count": 38,
   "metadata": {},
   "outputs": [
    {
     "name": "stdout",
     "output_type": "stream",
     "text": [
      "The word 'sister' is not a palindrome. Try again.\n"
     ]
    }
   ],
   "source": [
    "# Input string to check for palindrome\n",
    "word_check = str(input(\"Enter a word or sentence: \"))\n",
    "\n",
    "# Reverse word or sentence string\n",
    "rev_word = word_check[::-1]\n",
    "\n",
    "# loop to check for palindrome\n",
    "if word_check == rev_word:\n",
    "    print(f\"The word(or sentence) '{word_check}' is a palindrome.\")\n",
    "else:\n",
    "    print(f\"The word '{word_check}' is not a palindrome. Try again.\")\n",
    "\n"
   ]
  },
  {
   "cell_type": "markdown",
   "metadata": {},
   "source": [
    "# Project - Password Strength Checker"
   ]
  },
  {
   "cell_type": "code",
   "execution_count": 30,
   "metadata": {},
   "outputs": [
    {
     "name": "stdout",
     "output_type": "stream",
     "text": [
      "You need to include the missing character types: needs a number.\n",
      "Your password strength is medium!\n"
     ]
    }
   ],
   "source": [
    "# User password input\n",
    "password = input(\"Enter your password: \")\n",
    "\n",
    "# Set requirements to false\n",
    "has_upper = False # uppercase\n",
    "has_lower = False # lowercase\n",
    "has_digits = False # numbers\n",
    "has_special_char = False # special characters !@#$%^&*+\n",
    "\n",
    "# Loop to check characters in password\n",
    "for char in password:\n",
    "    if char.isupper():\n",
    "        has_upper = True\n",
    "    elif char.islower():\n",
    "        has_lower = True\n",
    "    elif char.isdigit():\n",
    "        has_digits = True\n",
    "    elif char in '!@#$%^&*+()_~`<>?':\n",
    "        has_special_char = True\n",
    "\n",
    "# loop to check for password length and requirements\n",
    "if has_upper and has_lower and has_digits and has_special_char  and (len(password) > 8):\n",
    "    print('Your password is strong!')\n",
    "elif has_upper and has_lower and has_digits and has_special_char  and (len(password) < 8):\n",
    "    print(\"You password needs to be a least 8 characters\") \n",
    "else:\n",
    "    missing_char = [] # array to hold password with missing character\n",
    "    \n",
    "    if not has_upper:\n",
    "        missing_char.append('needs an uppercase letter')\n",
    "    if not has_lower:\n",
    "        missing_char.append('needs a lowercase letter')\n",
    "    if not has_digits:\n",
    "        missing_char.append('needs a number')\n",
    "    if not has_special_char:\n",
    "        missing_char.append('needs a special character')\n",
    "    \n",
    "    print(f\"You need to include the missing character types: {', '.join(missing_char)}.\")\n",
    "\n",
    "# Strength of password\n",
    "if len(password) > 18:\n",
    "    print(\"You have a very strong password!\")\n",
    "elif len(password) >= 11:\n",
    "    print(\"Your password strength is medium!\")\n",
    "else:\n",
    "    print(\"You have a weak password!\")\n"
   ]
  }
 ],
 "metadata": {
  "kernelspec": {
   "display_name": "base",
   "language": "python",
   "name": "python3"
  },
  "language_info": {
   "codemirror_mode": {
    "name": "ipython",
    "version": 3
   },
   "file_extension": ".py",
   "mimetype": "text/x-python",
   "name": "python",
   "nbconvert_exporter": "python",
   "pygments_lexer": "ipython3",
   "version": "3.9.16"
  }
 },
 "nbformat": 4,
 "nbformat_minor": 2
}
